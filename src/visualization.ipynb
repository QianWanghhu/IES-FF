{
 "cells": [
  {
   "cell_type": "markdown",
   "id": "blind-integral",
   "metadata": {},
   "source": [
    "The notebook is used to visualize the performance of PCE"
   ]
  },
  {
   "cell_type": "code",
   "execution_count": 1,
   "id": "retired-society",
   "metadata": {},
   "outputs": [],
   "source": [
    "# import packages\n",
    "import pandas as pd\n",
    "import numpy as np\n",
    "import pickle\n",
    "from veneer.pest_runtime import *\n",
    "from veneer.manage import start,kill_all_now\n",
    "import os\n",
    "\n",
    "from funcs.read_data import variables_prep, file_settings\n",
    "from funcs.modeling_funcs import vs_settings, \\\n",
    "        modeling_settings, paralell_vs, obtain_initials, change_param_values\n",
    "from funcs.utils import timeseries_sum, update_bounds"
   ]
  },
  {
   "cell_type": "code",
   "execution_count": 2,
   "id": "associate-functionality",
   "metadata": {},
   "outputs": [],
   "source": [
    "# define the function for adaptive pce\n",
    "vs_list = []\n",
    "from run_source import run_source_lsq, run_source_annual"
   ]
  },
  {
   "cell_type": "markdown",
   "id": "agreed-roberts",
   "metadata": {},
   "source": [
    "## import samples and results for pce-sse"
   ]
  },
  {
   "cell_type": "code",
   "execution_count": 3,
   "id": "roman-norway",
   "metadata": {},
   "outputs": [],
   "source": [
    "import pickle\n",
    "year = 'rmse'\n",
    "num_iter = 3\n",
    "pce_load = pickle.load(open(f'{file_settings()[0]}adaptive/rmse_iter{num_iter}/pce-{year}-iter{num_iter}.pkl', \"rb\")) #-level4"
   ]
  },
  {
   "cell_type": "code",
   "execution_count": 4,
   "id": "worldwide-brighton",
   "metadata": {},
   "outputs": [],
   "source": [
    "# import observation if the output.txt requires the use of obs.\n",
    "date_range = pd.to_datetime(['2009/07/01', '2018/06/30'])\n",
    "observed_din = pd.read_csv(f'{file_settings()[1]}126001A.csv', index_col='Date')\n",
    "observed_din.index = pd.to_datetime(observed_din.index)\n",
    "observed_din = observed_din.loc[date_range[0]:date_range[1], :].filter(items=[observed_din.columns[0]]).apply(lambda x: 1000 * x)"
   ]
  },
  {
   "cell_type": "code",
   "execution_count": 5,
   "id": "personal-writing",
   "metadata": {},
   "outputs": [],
   "source": [
    "# import the validation set\n",
    "vali_samples = pd.read_csv(f'{file_settings()[1]}samples.csv', index_col='real_name')\n",
    "vali_values = pd.read_csv(f'{file_settings()[1]}DIN_126001A.csv', index_col = 'Unnamed: 0')\n",
    "vali_values.index = pd.to_datetime(vali_values.index)"
   ]
  },
  {
   "cell_type": "code",
   "execution_count": 6,
   "id": "stylish-family",
   "metadata": {},
   "outputs": [],
   "source": [
    "# calculate the summed squared residuals of annual loads\n",
    "vali_annual = timeseries_sum(vali_values, temp_scale = 'annual')\n",
    "obs_din = timeseries_sum(observed_din, temp_scale = 'annual')\n",
    "din_126001A = pd.DataFrame(vali_annual, dtype='float')\n",
    "if year =='sse':\n",
    "    resid = (obs_din.values - vali_annual.values)\n",
    "    sse = np.sum(resid ** 2, axis=0)\n",
    "    sse = sse.reshape(sse.shape[0], 1)\n",
    "elif year == 'rmse':\n",
    "    resid = (obs_din.values - vali_annual.values)\n",
    "    sse = (np.mean(resid ** 2, axis=0)) ** 0.5\n",
    "    sse = sse.reshape(sse.shape[0], 1)\n",
    "else:\n",
    "    sse = din_126001A.loc[year, :].values\n",
    "\n",
    "model_vals = sse"
   ]
  },
  {
   "cell_type": "code",
   "execution_count": 7,
   "id": "colonial-programming",
   "metadata": {},
   "outputs": [],
   "source": [
    "# calculate the outputs of pce\n",
    "pce_vals = pce_load(vali_samples.values.T)\n",
    "\n",
    "# extract the training samples\n",
    "# train_samples = pce_load.variable_transformation.map_from_canonical_space(pce_load.samples)\n",
    "# train_vals = pce_load.values\n",
    "\n",
    "train_set = np.loadtxt(f'{file_settings()[0]}adaptive/rmse_iter{num_iter}/train_samples.txt')\n",
    "train_vals = train_set[-1, :]"
   ]
  },
  {
   "cell_type": "code",
   "execution_count": 8,
   "id": "supported-separate",
   "metadata": {},
   "outputs": [
    {
     "data": {
      "text/plain": [
       "(155,)"
      ]
     },
     "execution_count": 8,
     "metadata": {},
     "output_type": "execute_result"
    }
   ],
   "source": [
    "train_vals.shape"
   ]
  },
  {
   "cell_type": "markdown",
   "id": "agreed-census",
   "metadata": {},
   "source": [
    "## Scatter plot of validation samples"
   ]
  },
  {
   "cell_type": "code",
   "execution_count": 9,
   "id": "armed-arthritis",
   "metadata": {},
   "outputs": [],
   "source": [
    "import matplotlib.pyplot as plt\n",
    "from matplotlib import rc\n",
    "import latex\n",
    "rc(\"text\", usetex=False)\n",
    "import seaborn as sns\n",
    "from sklearn import metrics"
   ]
  },
  {
   "cell_type": "code",
   "execution_count": 11,
   "id": "simplified-adelaide",
   "metadata": {},
   "outputs": [],
   "source": [
    "# calculate the error \n",
    "r2 = metrics.r2_score(model_vals.flatten()[0:1000], pce_vals.flatten()[0:1000])"
   ]
  },
  {
   "cell_type": "code",
   "execution_count": 12,
   "id": "greenhouse-smoke",
   "metadata": {},
   "outputs": [
    {
     "data": {
      "image/png": "[encoded data removed]",
      "text/plain": [
       "<Figure size 432x288 with 1 Axes>"
      ]
     },
     "metadata": {},
     "output_type": "display_data"
    }
   ],
   "source": [
    "sns.set_style('darkgrid')\n",
    "ax = sns.scatterplot(x = model_vals.flatten()[0:1000], y = pce_vals.flatten()[0:1000]);\n",
    "ax.scatter(x = train_vals, y = train_vals, color='orange', alpha=0.7, s=20)\n",
    "ax.set_xlabel('Model outputs')\n",
    "ax.set_ylabel('PCE outputs')\n",
    "ax.text(x=1e5, y=1.8e6, s=f'R2: {np.round(r2, 2)}');\n",
    "# Add a 1-1 line\n",
    "x_line = np.linspace(0, 2e6, 10000)\n",
    "y_line = x_line\n",
    "sns.lineplot(x = x_line, y = y_line, color='k', ax=ax, linestyle='--', alpha=0.4)\n",
    "plt.savefig(f'{file_settings()[0]}figs/PCE_{year}_rmse_iter{num_iter}.png', format='png', dpi=300)"
   ]
  },
  {
   "cell_type": "markdown",
   "id": "absolute-segment",
   "metadata": {},
   "source": [
    "## Plot the residuals between the surrogate and the model"
   ]
  },
  {
   "cell_type": "code",
   "execution_count": 13,
   "id": "printable-massachusetts",
   "metadata": {},
   "outputs": [
    {
     "data": {
      "text/plain": [
       "[-3275.5718104340253, 2933.375575691903]"
      ]
     },
     "execution_count": 13,
     "metadata": {},
     "output_type": "execute_result"
    }
   ],
   "source": [
    "# calculate the residuals\n",
    "resid = pce_vals.flatten() - model_vals.flatten()\n",
    "bounds = [np.quantile(resid, 0.025), np.quantile(resid, 0.975)]\n",
    "bounds"
   ]
  },
  {
   "cell_type": "code",
   "execution_count": 15,
   "id": "fitting-grammar",
   "metadata": {},
   "outputs": [],
   "source": [
    "# update the uncertainty bounds\n",
    "f_name = f'{file_settings()[0]}adaptive/rmse_bounds.pkl'\n",
    "bounds_dict = update_bounds(f_name, bounds)"
   ]
  },
  {
   "cell_type": "code",
   "execution_count": 16,
   "id": "prepared-sight",
   "metadata": {},
   "outputs": [
    {
     "data": {
      "image/png": "[encoded data removed]",
      "text/plain": [
       "<Figure size 432x288 with 1 Axes>"
      ]
     },
     "metadata": {},
     "output_type": "display_data"
    }
   ],
   "source": [
    "# plot the distribution of residuals\n",
    "ax = sns.histplot(resid, stat='frequency');\n",
    "ax.set_xlabel('residual')\n",
    "ax.set_ylabel('frequency');\n",
    "plt.savefig(f'{file_settings()[0]}figs/residual_rmse_iter{num_iter}.png', format='png', dpi=300)"
   ]
  },
  {
   "cell_type": "code",
   "execution_count": null,
   "id": "dirty-characterization",
   "metadata": {},
   "outputs": [],
   "source": []
  }
 ],
 "metadata": {
  "kernelspec": {
   "display_name": "python(oed)",
   "language": "python",
   "name": "oed"
  },
  "language_info": {
   "codemirror_mode": {
    "name": "ipython",
    "version": 3
   },
   "file_extension": ".py",
   "mimetype": "text/x-python",
   "name": "python",
   "nbconvert_exporter": "python",
   "pygments_lexer": "ipython3",
   "version": "3.7.1"
  }
 },
 "nbformat": 4,
 "nbformat_minor": 5
}
