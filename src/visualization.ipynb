{
 "cells": [
  {
   "cell_type": "markdown",
   "id": "fitting-supply",
   "metadata": {},
   "source": [
    "The notebook is used to visualize the performance of PCE"
   ]
  },
  {
   "cell_type": "code",
   "execution_count": 1,
   "id": "coastal-sunday",
   "metadata": {},
   "outputs": [],
   "source": [
    "# import packages\n",
    "import pandas as pd\n",
    "import numpy as np\n",
    "from veneer.pest_runtime import *\n",
    "from veneer.manage import start,kill_all_now\n",
    "import os\n",
    "\n",
    "from funcs.read_data import variables_prep, file_settings\n",
    "from funcs.modeling_funcs import vs_settings, \\\n",
    "        modeling_settings, paralell_vs, obtain_initials, change_param_values"
   ]
  },
  {
   "cell_type": "code",
   "execution_count": 2,
   "id": "verbal-pharmaceutical",
   "metadata": {},
   "outputs": [],
   "source": [
    "# define the function for adaptive pce\n",
    "vs_list = []\n",
    "\n",
    "def run_source_annual(vars, vs_list=vs_list):\n",
    "    \"\"\"\n",
    "    Script used to run_source and return the output file.\n",
    "    The function is called by AdaptiveLejaPCE.\n",
    "    \"\"\"\n",
    "    from funcs.modeling_funcs import modeling_settings, generate_observation_ensemble\n",
    "    print('Read Parameters')\n",
    "    parameters = pd.read_csv('../data/Parameters-PCE.csv', index_col='Index')\n",
    "\n",
    "    # import observation if the output.txt requires the use of obs.\n",
    "    date_range = pd.to_datetime(['2017/07/01', '2018/06/30'])\n",
    "    observed_din = pd.read_csv(f'{file_settings()[1]}126001A.csv', index_col='Date')\n",
    "    observed_din.index = pd.to_datetime(observed_din.index)\n",
    "    observed_din = observed_din.loc[date_range[0]:date_range[1], :].filter(items=[observed_din.columns[0]]).apply(lambda x: 1000 * x)\n",
    "    \n",
    "    # loop over the vars and try to use parallel     \n",
    "    parameter_df = pd.DataFrame(index=np.arange(vars.shape[1]), columns=parameters.Name_short)\n",
    "    for i in range(vars.shape[1]):\n",
    "        parameter_df.iloc[i] = vars[:, i]\n",
    "\n",
    "    # set the time period of the results\n",
    "    retrieve_time = [pd.Timestamp('2017-07-01'), pd.Timestamp('2018-06-30')]\n",
    "\n",
    "    # define the modeling period and the recording variables\n",
    "    _, _, criteria, start_date, end_date = modeling_settings()\n",
    "    din = generate_observation_ensemble(vs_list, \n",
    "        criteria, start_date, end_date, parameter_df, retrieve_time)\n",
    "    breakpoint()\n",
    "    if din.mean(axis=0)[0] == 0:\n",
    "        cv = np.array([1e-5]) # Set the cv at 1e-5 to satisfy the requirements of the adaptive_polynomial_chaos\n",
    "    else:\n",
    "        breakpoint()\n",
    "        cv = np.array(din.std(axis = 0).values / din.mean(axis = 0).values)\n",
    "\n",
    "    if cv.shape[0] > 1:\n",
    "        breakpoint()\n",
    "    cv = cv.reshape(cv.shape[0], 1)\n",
    "    print(f'Finish {cv.shape[0]} run')\n",
    "\n",
    "    return cv\n",
    "# END run_source()"
   ]
  },
  {
   "cell_type": "markdown",
   "id": "extended-publisher",
   "metadata": {},
   "source": [
    "## import samples and results for the pce-cv"
   ]
  },
  {
   "cell_type": "code",
   "execution_count": 20,
   "id": "ignored-heart",
   "metadata": {},
   "outputs": [],
   "source": [
    "import pickle\n",
    "pce_load = pickle.load(open(f'{file_settings()[0]}\\pce-lsq.pkl', \"rb\"))"
   ]
  },
  {
   "cell_type": "code",
   "execution_count": 21,
   "id": "unable-inventory",
   "metadata": {},
   "outputs": [],
   "source": [
    "# import the validation set\n",
    "vali_samples = pd.read_csv(f'{file_settings()[1]}samples.csv', index_col='real_name')\n",
    "vali_values = pd.read_csv(f'{file_settings()[1]}DIN_126001A.csv', index_col = 'Unnamed: 0')"
   ]
  },
  {
   "cell_type": "code",
   "execution_count": 5,
   "id": "moved-television",
   "metadata": {},
   "outputs": [],
   "source": [
    "vali_cv = (vali_values.std(axis=0) / vali_values.mean(axis=0)).values\n",
    "pce_vals = pce_load(vali_samples.values.T)"
   ]
  },
  {
   "cell_type": "markdown",
   "id": "grateful-hudson",
   "metadata": {},
   "source": [
    "## import samples and results for pce-sse"
   ]
  },
  {
   "cell_type": "code",
   "execution_count": 3,
   "id": "binding-nancy",
   "metadata": {},
   "outputs": [],
   "source": [
    "import pickle\n",
    "year = 2017\n",
    "pce_load = pickle.load(open(f'{file_settings()[0]}\\pce-{year}-level4.pkl', \"rb\"))"
   ]
  },
  {
   "cell_type": "code",
   "execution_count": 4,
   "id": "welsh-davis",
   "metadata": {},
   "outputs": [],
   "source": [
    "# Define objective functions\n",
    "# Use annual or monthly loads\n",
    "def timeseries_sum(df, temp_scale = 'annual'):\n",
    "    \"\"\"v\n",
    "    Obtain the sum of timeseries of different temporal scale.\n",
    "    temp_scale: str, default is 'Y', monthly using 'M'\n",
    "    \"\"\"\n",
    "    assert temp_scale in ['monthly', 'annual'], 'The temporal scale given is not supported.'\n",
    "    if temp_scale == 'monthly':\n",
    "        sum_126001A = df.resample('M').sum()\n",
    "    else:\n",
    "        month_126001A = df.resample('M').sum()\n",
    "        sum_126001A = pd.DataFrame(index = np.arange(df.index[0].year, df.index[-1].year), \n",
    "            columns=df.columns)\n",
    "        for i in range(sum_126001A.shape[0]):\n",
    "            sum_126001A.iloc[i, :] = month_126001A.iloc[i*12: (i+1)*12, :].sum()\n",
    "\n",
    "    return sum_126001A\n",
    "# End timeseries_sum()"
   ]
  },
  {
   "cell_type": "code",
   "execution_count": 5,
   "id": "better-mountain",
   "metadata": {},
   "outputs": [],
   "source": [
    "# import observation if the output.txt requires the use of obs.\n",
    "date_range = pd.to_datetime(['2009/07/01', '2018/06/30'])\n",
    "observed_din = pd.read_csv(f'{file_settings()[1]}126001A.csv', index_col='Date')\n",
    "observed_din.index = pd.to_datetime(observed_din.index)\n",
    "observed_din = observed_din.loc[date_range[0]:date_range[1], :].filter(items=[observed_din.columns[0]]).apply(lambda x: 1000 * x)"
   ]
  },
  {
   "cell_type": "code",
   "execution_count": 6,
   "id": "cellular-secret",
   "metadata": {},
   "outputs": [],
   "source": [
    "# import the validation set\n",
    "vali_samples = pd.read_csv(f'{file_settings()[1]}samples.csv', index_col='real_name')\n",
    "vali_values = pd.read_csv(f'{file_settings()[1]}DIN_126001A.csv', index_col = 'Unnamed: 0')\n",
    "vali_values.index = pd.to_datetime(vali_values.index)"
   ]
  },
  {
   "cell_type": "code",
   "execution_count": 7,
   "id": "automated-grave",
   "metadata": {},
   "outputs": [],
   "source": [
    "# calculate the summed squared residuals of annual loads\n",
    "vali_annual = timeseries_sum(vali_values, temp_scale = 'annual')\n",
    "obs_din = timeseries_sum(observed_din, temp_scale = 'annual')\n",
    "din_126001A = pd.DataFrame(vali_annual, dtype='float')\n",
    "if year != 'sse':\n",
    "    lsq = din_126001A.loc[year, :].values\n",
    "else:\n",
    "    resid = (obs_din.values - vali_annual.values)\n",
    "    lsq = np.sum(resid ** 2, axis=0)\n",
    "    lsq = lsq.reshape(lsq.shape[0], 1)\n",
    "\n",
    "model_vals = lsq"
   ]
  },
  {
   "cell_type": "code",
   "execution_count": 8,
   "id": "cathedral-think",
   "metadata": {},
   "outputs": [],
   "source": [
    "# calculate the outputs of pce\n",
    "pce_vals = pce_load(vali_samples.values.T)"
   ]
  },
  {
   "cell_type": "markdown",
   "id": "yellow-daughter",
   "metadata": {},
   "source": [
    "## Scatter plot of validation samples"
   ]
  },
  {
   "cell_type": "code",
   "execution_count": 9,
   "id": "solar-bermuda",
   "metadata": {},
   "outputs": [],
   "source": [
    "import matplotlib.pyplot as plt\n",
    "from matplotlib import rc\n",
    "import latex\n",
    "rc(\"text\", usetex=False)\n",
    "import seaborn as sns\n",
    "from sklearn import metrics"
   ]
  },
  {
   "cell_type": "code",
   "execution_count": 10,
   "id": "utility-notebook",
   "metadata": {},
   "outputs": [
    {
     "data": {
      "text/plain": [
       "0.9999984345027167"
      ]
     },
     "execution_count": 10,
     "metadata": {},
     "output_type": "execute_result"
    }
   ],
   "source": [
    "# calculate the error \n",
    "r2 = metrics.r2_score(model_vals.flatten()[0:1000], pce_vals.flatten()[0:1000])\n",
    "r2"
   ]
  },
  {
   "cell_type": "code",
   "execution_count": 13,
   "id": "structured-price",
   "metadata": {},
   "outputs": [
    {
     "data": {
      "image/png": "[encoded data removed]",
      "text/plain": [
       "<Figure size 432x288 with 1 Axes>"
      ]
     },
     "metadata": {},
     "output_type": "display_data"
    }
   ],
   "source": [
    "sns.set_style('darkgrid')\n",
    "ax = sns.scatterplot(x = model_vals.flatten()[0:1000], y = pce_vals.flatten()[0:1000])\n",
    "ax.set_xlabel('Model outputs')\n",
    "ax.set_ylabel('PCE outputs')\n",
    "ax.text(x=1e5, y=4e5, s=f'R2: {np.round(r2, 2)}');\n",
    "# Add a 1-1 line\n",
    "# x_line = np.linspace(0, 2.5e6, 10000)\n",
    "# y_line = x_line\n",
    "# sns.lineplot(x = x_line, y = y_line, color='k', ax=ax, linestyle='--', alpha=0.5)\n",
    "plt.savefig(f'{file_settings()[0]}figs/PCE_{year}.png', format='png', dpi=300)"
   ]
  },
  {
   "cell_type": "code",
   "execution_count": null,
   "id": "lyric-length",
   "metadata": {},
   "outputs": [],
   "source": []
  }
 ],
 "metadata": {
  "kernelspec": {
   "display_name": "python(oed)",
   "language": "python",
   "name": "oed"
  },
  "language_info": {
   "codemirror_mode": {
    "name": "ipython",
    "version": 3
   },
   "file_extension": ".py",
   "mimetype": "text/x-python",
   "name": "python",
   "nbconvert_exporter": "python",
   "pygments_lexer": "ipython3",
   "version": "3.7.1"
  }
 },
 "nbformat": 4,
 "nbformat_minor": 5
}
