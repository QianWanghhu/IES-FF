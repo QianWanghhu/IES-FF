{
 "cells": [
  {
   "cell_type": "markdown",
   "id": "strategic-orientation",
   "metadata": {},
   "source": [
    "The script is used to analyze the parameter sensitivity with use of the PCEs"
   ]
  },
  {
   "cell_type": "code",
   "execution_count": 5,
   "id": "german-presentation",
   "metadata": {},
   "outputs": [],
   "source": [
    "# import packages\n",
    "import numpy as np\n",
    "import pandas as pd\n",
    "import pickle\n",
    "import pyapprox as pya"
   ]
  },
  {
   "cell_type": "code",
   "execution_count": 49,
   "id": "dried-decline",
   "metadata": {},
   "outputs": [],
   "source": [
    "# define the function for adaptive pce\n",
    "vs_list = []\n",
    "from run_source import run_source_lsq, run_source_annual\n",
    "from funcs.read_data import variables_prep, file_settings\n",
    "from funcs.utils import return_sa"
   ]
  },
  {
   "cell_type": "code",
   "execution_count": 53,
   "id": "patient-intensity",
   "metadata": {},
   "outputs": [
    {
     "name": "stderr",
     "output_type": "stream",
     "text": [
      "C:\\Users\\qianw\\anaconda3\\envs\\oed\\lib\\site-packages\\numpy\\core\\_asarray.py:102: VisibleDeprecationWarning: Creating an ndarray from ragged nested sequences (which is a list-or-tuple of lists-or-tuples-or ndarrays with different lengths or shapes) is deprecated. If you meant to do this, you must specify 'dtype=object' when creating the ndarray.\n",
      "  return array(a, dtype, copy=False, order=order)\n"
     ]
    }
   ],
   "source": [
    "# load parameters\n",
    "parameters = pd.read_csv(f'{file_sesttings()[1]}Parameters-PCE.csv')['Name_short'].values\n",
    "for year in range(2009, 2018):\n",
    "    sa = return_sa(year, parameters)\n",
    "    sa.to_csv(f'{file_settings()[0]}sa_{year}.csv', index = 'Name_short')"
   ]
  },
  {
   "cell_type": "code",
   "execution_count": null,
   "id": "bibliographic-acceptance",
   "metadata": {},
   "outputs": [],
   "source": [
    "# conduct factor fixing"
   ]
  }
 ],
 "metadata": {
  "kernelspec": {
   "display_name": "python(oed)",
   "language": "python",
   "name": "oed"
  },
  "language_info": {
   "codemirror_mode": {
    "name": "ipython",
    "version": 3
   },
   "file_extension": ".py",
   "mimetype": "text/x-python",
   "name": "python",
   "nbconvert_exporter": "python",
   "pygments_lexer": "ipython3",
   "version": "3.7.1"
  }
 },
 "nbformat": 4,
 "nbformat_minor": 5
}
