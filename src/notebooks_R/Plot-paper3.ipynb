{
 "cells": [
  {
   "cell_type": "markdown",
   "id": "d80e14ee-0649-457e-a0e7-fb4ce6d7ddbc",
   "metadata": {},
   "source": [
    "This script is used to create plots for Paper 3."
   ]
  },
  {
   "cell_type": "code",
   "execution_count": 2,
   "id": "2b1f6900-8e6b-439b-9abd-16be60d36ae7",
   "metadata": {},
   "outputs": [],
   "source": [
    "# Import packages required\n",
    "import numpy as np\n",
    "import pandas as pd\n",
    "import plotly.graph_objects as go"
   ]
  },
  {
   "cell_type": "markdown",
   "id": "94f3e119-cea9-4cfa-8933-ecab12cf8c54",
   "metadata": {},
   "source": [
    "## Create line-plot showing performance of adaptive GP"
   ]
  },
  {
   "cell_type": "code",
   "execution_count": null,
   "id": "34ef1fcc-9db2-46da-a352-4e820a1c6efc",
   "metadata": {},
   "outputs": [],
   "source": []
  }
 ],
 "metadata": {
  "kernelspec": {
   "display_name": "agp_ff",
   "language": "python",
   "name": "agp_ff"
  },
  "language_info": {
   "codemirror_mode": {
    "name": "ipython",
    "version": 3
   },
   "file_extension": ".py",
   "mimetype": "text/x-python",
   "name": "python",
   "nbconvert_exporter": "python",
   "pygments_lexer": "ipython3",
   "version": "3.10.6"
  }
 },
 "nbformat": 4,
 "nbformat_minor": 5
}
