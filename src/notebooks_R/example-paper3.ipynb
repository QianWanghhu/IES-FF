{
 "cells": [
  {
   "cell_type": "code",
   "execution_count": 1,
   "metadata": {},
   "outputs": [],
   "source": [
    "import numpy as np\n",
    "import pandas as pd\n",
    "import plotly.graph_objects as go"
   ]
  },
  {
   "cell_type": "code",
   "execution_count": 2,
   "metadata": {},
   "outputs": [],
   "source": [
    "# Define the function\n",
    "# Parameters x are defined on [-1, 1]\n",
    "def diff_power(x1, x2):\n",
    "    \"\"\"\n",
    "    Parameters:\n",
    "    x1, x2: np.ndarray, matrix of parameter values for the weighted Summed Differential Power (SDP) function.\n",
    "    \n",
    "    Return:\n",
    "    y: np.ndarray, the output of SDP function.\n",
    "    \"\"\"\n",
    "    y = abs(x1) + 0.5 * abs(x2) ** 2\n",
    "    return y\n",
    "# vetorize diff_power fucntion \n",
    "v_func = np.vectorize(diff_power)"
   ]
  },
  {
   "cell_type": "code",
   "execution_count": 3,
   "metadata": {},
   "outputs": [],
   "source": [
    "# Create meshgrid points\n",
    "x = np.array(np.meshgrid(np.linspace(-1, 1, 1000),\n",
    "                   np.linspace(-1, 1, 1000)))"
   ]
  },
  {
   "cell_type": "code",
   "execution_count": 24,
   "metadata": {},
   "outputs": [],
   "source": [
    "# Calculate the unconditioned results\n",
    "z = v_func(x[0], x[1])\n",
    "# Fix parameters at certain points and calculate the related  results\n",
    "# Fix x2 at 0.0, 0.8 respectively\n",
    "z_c1 = v_func(x[0][0], 0)\n",
    "z_c2 = v_func(x[0][0], 0.8)"
   ]
  },
  {
   "cell_type": "code",
   "execution_count": 11,
   "metadata": {},
   "outputs": [],
   "source": [
    "fig = go.Figure(data =\n",
    "    go.Contour(\n",
    "        z = z,\n",
    "        x = x[0][0],\n",
    "        y = x[1][:,0]\n",
    "        \n",
    "    ))\n",
    "fig.write_image('test.png', format = 'png', scale=2)"
   ]
  },
  {
   "cell_type": "code",
   "execution_count": 25,
   "metadata": {},
   "outputs": [],
   "source": [
    "import plotly.figure_factory as ff\n",
    "hist_data = [z_c1, z_c2]\n",
    "group_labels = ['x2=0.0', 'x2=0.8']\n",
    "fig2 = ff.create_distplot(hist_data, group_labels)\n",
    "fig2.write_image('test1.png', format = 'png', scale=2)"
   ]
  },
  {
   "cell_type": "code",
   "execution_count": null,
   "metadata": {},
   "outputs": [],
   "source": []
  }
 ],
 "metadata": {
  "kernelspec": {
   "display_name": "wqd_py",
   "language": "python",
   "name": "wqd_py"
  },
  "language_info": {
   "codemirror_mode": {
    "name": "ipython",
    "version": 3
   },
   "file_extension": ".py",
   "mimetype": "text/x-python",
   "name": "python",
   "nbconvert_exporter": "python",
   "pygments_lexer": "ipython3",
   "version": "3.10.5"
  }
 },
 "nbformat": 4,
 "nbformat_minor": 4
}
