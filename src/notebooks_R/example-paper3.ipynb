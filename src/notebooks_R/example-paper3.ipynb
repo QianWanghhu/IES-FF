{
 "cells": [
  {
   "cell_type": "code",
   "execution_count": 1,
   "metadata": {},
   "outputs": [],
   "source": [
    "import numpy as np\n",
    "import pandas as pd\n",
    "import math\n",
    "import SALib\n",
    "from SALib.sample import latin\n",
    "import plotly.graph_objects as go"
   ]
  },
  {
   "cell_type": "code",
   "execution_count": 2,
   "metadata": {},
   "outputs": [],
   "source": [
    "# Define fontsizes\n",
    "lab_font_size = 20\n",
    "tick_font_size = 18\n",
    "anno_font_size = 16\n",
    "fig_path = '../../output/paper3/'"
   ]
  },
  {
   "cell_type": "code",
   "execution_count": 3,
   "metadata": {},
   "outputs": [],
   "source": [
    "# Define the function\n",
    "# Parameters x are defined on [-1, 1]\n",
    "def diff_power(x1, x2):\n",
    "    \"\"\"\n",
    "    Parameters:\n",
    "    x1, x2: np.ndarray, matrix of parameter values for the Gaussian peak integrand family (GPI).\n",
    "    \n",
    "    Return:\n",
    "    y: np.ndarray, the output of SDP function.\n",
    "    \"\"\"\n",
    "    y = math.exp(-25 * (x1 - 0.5)**2 - 4*(x2 - 0.5) ** 2)\n",
    "    return y\n",
    "# vetorize diff_power fucntion \n",
    "v_func = np.vectorize(diff_power)"
   ]
  },
  {
   "cell_type": "markdown",
   "metadata": {},
   "source": [
    "## Create the contour plot"
   ]
  },
  {
   "cell_type": "code",
   "execution_count": 4,
   "metadata": {},
   "outputs": [],
   "source": [
    "# Create meshgrid points\n",
    "x = np.array(np.meshgrid(np.linspace(0, 1, 1000),\n",
    "                   np.linspace(0, 1, 1000)))\n",
    "\n",
    "# Fix parameters at certain points and calculate the related  results\n",
    "# Fix x2 at 0.0, 0.8 respectively\n",
    "fix_1 = 0.5\n",
    "fix_2 = 0.9\n",
    "# Calculate the unconditioned results\n",
    "z = v_func(x[0], x[1])"
   ]
  },
  {
   "cell_type": "code",
   "execution_count": 5,
   "metadata": {},
   "outputs": [],
   "source": [
    "fig = go.Figure(data =\n",
    "    go.Contour(\n",
    "        z = z,\n",
    "        x = x[0][0],\n",
    "        y = x[1][:,0],\n",
    "        colorbar = dict(title='Values', # title here\n",
    "            titleside='top',\n",
    "            titlefont=dict(\n",
    "            size=lab_font_size),\n",
    "            tickfont = dict(size = tick_font_size)\n",
    "            ),\n",
    "        colorscale='sunset',\n",
    "    contours=dict(\n",
    "            coloring ='heatmap',\n",
    "            showlabels = True, # show labels on contours\n",
    "            labelfont = dict( # label font properties\n",
    "                size = 12,\n",
    "                color = 'white'),\n",
    "            start=0,\n",
    "            end=1,\n",
    "            size=0.1)\n",
    "            ))\n",
    "\n",
    "fig.add_trace(go.Scatter(x=[0.405, 0.405, 0.595, 0.595, 0.405], y=[0.26, 0.74, 0.74, 0.26, 0.26], \n",
    "                         fill=None, line_color='royalblue',\n",
    "                        line_width=1.5, mode='lines'))\n",
    "\n",
    "# Add annotation and arrows describing box\n",
    "fig.add_annotation(x=0.55, y=0.74,\n",
    "            text=\"The bounding box of feasible set\",\n",
    "            showarrow=True,\n",
    "            arrowhead=1,\n",
    "            font = {\"size\": anno_font_size}\n",
    "            )\n",
    "\n",
    "# Add annotations to contour plot\n",
    "fig.add_hline(y=fix_1, line_width=1.5, line_dash=\"dash\", line_color=\"red\", \n",
    "              annotation_text = r'$f(x_1, x_2=%.1f)$'%fix_1, annotation_font_size = anno_font_size)\n",
    "fig.add_hline(y=fix_2, line_width=1.5, line_dash=\"dash\", line_color=\"green\", \n",
    "              annotation_text = r'$f(x_1, x_2=%.1f)$'%fix_2, annotation_font_size = anno_font_size)\n",
    "fig.update_xaxes(title_text = r'$x_1$', title_font = {\"size\": lab_font_size}, tickfont=dict(size=tick_font_size))\n",
    "fig.update_yaxes(title_text = r'$x_2$',title_font = {\"size\": lab_font_size},  tickfont=dict(size=tick_font_size))\n",
    "fig.write_image(f'{fig_path}contour.png', format = 'png', scale=2)"
   ]
  },
  {
   "cell_type": "markdown",
   "metadata": {},
   "source": [
    "## Create boxplot"
   ]
  },
  {
   "cell_type": "code",
   "execution_count": 6,
   "metadata": {},
   "outputs": [],
   "source": [
    "# random sampling to over parameter space and then fix variable x2\n",
    "problem = {'num_vars': 2,\n",
    "          'names': ['x1', 'x2'],\n",
    "          'bounds': [[0, 1], \n",
    "                    [0, 1]]\n",
    "          }\n",
    "param_values_full = latin.sample(problem, 10000)\n",
    "x1_full = param_values_full[:, 0]\n",
    "x2_full = param_values_full[:, 1]\n",
    "z_uncon = v_func(x1_full, x2_full)\n",
    "\n",
    "# Calculate the conditional values with x2 fixed.\n",
    "group_labels = [r'$f(x_1, x_2)$', r'$f(x_1, x_2=%.1f)$'%(fix_1), r'$f(x_1, x_2=%.1f)$'%(fix_2)]\n",
    "z_c1 = v_func(x1_full, fix_1)\n",
    "z_c2 = v_func(x1_full, fix_2)"
   ]
  },
  {
   "cell_type": "code",
   "execution_count": 7,
   "metadata": {},
   "outputs": [],
   "source": [
    "hist_data = [z_uncon, z_c1, z_c2]\n",
    "fig3 = go.Figure()\n",
    "for z_c, lab in zip(hist_data, group_labels):\n",
    "    fig3.add_trace(go.Box(y = z_c, name = lab, width = 0.2))\n",
    "fig3.update_yaxes(title_text = r'$f\\ values$', title_font = {\"size\": lab_font_size}, tickfont={\"size\" : tick_font_size})\n",
    "fig3.update_xaxes(tickfont={\"size\" : tick_font_size}, title_font = {\"size\": lab_font_size})\n",
    "fig3.update_layout(showlegend=False)\n",
    "fig3.write_image(f'{fig_path}boxplot.png', format = 'png', scale=1)"
   ]
  },
  {
   "cell_type": "markdown",
   "metadata": {},
   "source": [
    "## Create histgram"
   ]
  },
  {
   "cell_type": "code",
   "execution_count": 8,
   "metadata": {
    "tags": []
   },
   "outputs": [],
   "source": [
    "import plotly.figure_factory as ff\n",
    "hist_data = [z_c1, z_c2]\n",
    "fig2 = ff.create_distplot(hist_data, group_labels[1:], show_hist = False, show_rug = False)\n",
    "fig2.update_yaxes(title_text = 'Probability distribution function', title_font = {\"size\": lab_font_size})\n",
    "fig2.update_xaxes(title_text=r'$f\\ values$', title_font = {\"size\": lab_font_size})\n",
    "fig2.update_layout(legend=dict(yanchor = \"top\",\n",
    "                              y = 0.8,\n",
    "                              xanchor = \"left\",\n",
    "                              x = 0.45))\n",
    "fig2.write_image(f'{fig_path}histgram.png', format = 'png', scale=2)"
   ]
  },
  {
   "cell_type": "markdown",
   "metadata": {},
   "source": [
    "## Create scatter plot"
   ]
  },
  {
   "cell_type": "code",
   "execution_count": 9,
   "metadata": {},
   "outputs": [],
   "source": [
    "# Scatter plot of x2 fixed at fix_1\n",
    "hist_data = [z_uncon, z_c1, z_c2]\n",
    "fig4 = go.Figure()\n",
    "k = 0\n",
    "for ydata, lab in zip(hist_data, group_labels):\n",
    "    if k != 1:  \n",
    "        fig4.add_trace(go.Scatter(x = x1_full, y = ydata, mode='markers', name=lab, \n",
    "                                  marker = {'size': 6, 'opacity' : 0.7}))\n",
    "    else:\n",
    "        fig4.add_trace(go.Scatter(x = x1_full, y = ydata, mode='markers', name=lab, \n",
    "                                  marker = {'size': 6, 'opacity' : 0.02}))\n",
    "    k += 1\n",
    "fig4.update_yaxes(title_text = r'$f\\ values$', title_font = {\"size\": lab_font_size}, tickfont = {\"size\" : tick_font_size})\n",
    "fig4.update_xaxes(title_text = r'$x_1$', title_font = {\"size\": lab_font_size}, tickfont = {\"size\" : tick_font_size})\n",
    "fig4.update_layout(legend=dict(yanchor = \"top\",\n",
    "                              y = 0.95,\n",
    "                              xanchor = \"left\",\n",
    "                              x = 0.65, \n",
    "                              font = {\"size\":14}))\n",
    "fig4.write_image(f'{fig_path}scatterplots.png', format = 'png', scale=2)"
   ]
  },
  {
   "cell_type": "code",
   "execution_count": null,
   "metadata": {},
   "outputs": [],
   "source": []
  }
 ],
 "metadata": {
  "kernelspec": {
   "display_name": "agp_ff",
   "language": "python",
   "name": "agp_ff"
  },
  "language_info": {
   "codemirror_mode": {
    "name": "ipython",
    "version": 3
   },
   "file_extension": ".py",
   "mimetype": "text/x-python",
   "name": "python",
   "nbconvert_exporter": "python",
   "pygments_lexer": "ipython3",
   "version": "3.10.6"
  }
 },
 "nbformat": 4,
 "nbformat_minor": 4
}
