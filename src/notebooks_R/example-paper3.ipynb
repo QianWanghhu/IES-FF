{
 "cells": [
  {
   "cell_type": "code",
   "execution_count": 1,
   "metadata": {},
   "outputs": [],
   "source": [
    "import numpy as np\n",
    "import pandas as pd\n",
    "import math\n",
    "import SALib\n",
    "from SALib.sample import latin\n",
    "import plotly.graph_objects as go"
   ]
  },
  {
   "cell_type": "code",
   "execution_count": 2,
   "metadata": {},
   "outputs": [],
   "source": [
    "# Define fontsizes\n",
    "lab_font_size = 20\n",
    "tick_font_size = 18\n",
    "anno_font_size = 16\n",
    "fig_path = '../../output/paper3/'"
   ]
  },
  {
   "cell_type": "code",
   "execution_count": 3,
   "metadata": {},
   "outputs": [],
   "source": [
    "# Define the function\n",
    "# Parameters x are defined on [-1, 1]\n",
    "def diff_power(x1, x2):\n",
    "    \"\"\"\n",
    "    Parameters:\n",
    "    x1, x2: np.ndarray, matrix of parameter values for the Gaussian peak integrand family (GPI).\n",
    "    \n",
    "    Return:\n",
    "    y: np.ndarray, the output of SDP function.\n",
    "    \"\"\"\n",
    "    y = math.exp(-25 * (x1 - 0.5)**2 - 4*(x2 - 0.5) ** 2 - 5*(x1-0.5)*(x2-0.5))\n",
    "    return y\n",
    "# vetorize diff_power fucntion \n",
    "v_func = np.vectorize(diff_power)"
   ]
  },
  {
   "cell_type": "markdown",
   "metadata": {},
   "source": [
    "## Create the contour plot"
   ]
  },
  {
   "cell_type": "code",
   "execution_count": 4,
   "metadata": {},
   "outputs": [],
   "source": [
    "# Create meshgrid points\n",
    "x = np.array(np.meshgrid(np.linspace(0, 1, 1000),\n",
    "                   np.linspace(0, 1, 1000)))\n",
    "\n",
    "# Fix parameters at certain points and calculate the related  results\n",
    "# Fix x2 \n",
    "fix_1 = 0.5\n",
    "fix_2 = 0.7\n",
    "y_thres = 0.8\n",
    "# Calculate the unconditioned results\n",
    "z = v_func(x[0], x[1])"
   ]
  },
  {
   "cell_type": "code",
   "execution_count": 10,
   "metadata": {},
   "outputs": [],
   "source": [
    "fig = go.Figure(data =\n",
    "    go.Contour(\n",
    "        z = z,\n",
    "        x = x[0][0],\n",
    "        y = x[1][:,0],\n",
    "        colorbar = dict(title='Values', # title here\n",
    "            titleside='top',\n",
    "            titlefont=dict(\n",
    "            size=lab_font_size),\n",
    "            tickfont = dict(size = tick_font_size)\n",
    "            ),\n",
    "        colorscale='sunset',\n",
    "    contours=dict(\n",
    "            coloring ='heatmap',\n",
    "            showlabels = True, # show labels on contours\n",
    "            labelfont = dict( # label font properties\n",
    "                size = 12,\n",
    "                color = 'white'),\n",
    "            start=0,\n",
    "            end=1,\n",
    "            size=0.1)\n",
    "            ))\n",
    "\n",
    "fig.add_trace(go.Scatter(x=[0.001, 0.001, 0.999, 0.999, 0.001], y=[0, 1, 1, 0, 0], \n",
    "                         fill=None, line_color='royalblue',\n",
    "                        line_width=2, mode='lines', showlegend=False))\n",
    "\n",
    "# Add annotation and arrows describing box\n",
    "fig.add_annotation(x=0.55, y=0.74,\n",
    "            text=\"The bounding box of feasible set\",\n",
    "            showarrow=True,\n",
    "            arrowhead=1,\n",
    "            font = {\"size\": anno_font_size}\n",
    "            )\n",
    "# Add markers indicating optima\n",
    "fig.add_trace(go.Scatter(x=[0.5, 0.48], y=[fix_1, fix_2], \\\n",
    "                         mode='markers', marker={'symbol':2,'size':8, 'color':['red', 'green']}, showlegend=False))\n",
    "\n",
    "# Add annotations to contour plot\n",
    "fig.add_hline(y=fix_1, line_width=1.5, line_dash=\"dash\", line_color=\"red\", \n",
    "              annotation_text = r'$f(x_1, x_2=%.1f)$'%fix_1, annotation_font_size = anno_font_size)\n",
    "fig.add_hline(y=fix_2, line_width=1.5, line_dash=\"dash\", line_color=\"green\", \n",
    "              annotation_text = r'$f(x_1, x_2=%.1f)$'%fix_2, annotation_font_size = anno_font_size)\n",
    "fig.update_xaxes(title_text = r'$x_1$', title_font = {\"size\": lab_font_size}, tickfont=dict(size=tick_font_size))\n",
    "fig.update_yaxes(title_text = r'$x_2$',title_font = {\"size\": lab_font_size},  tickfont=dict(size=tick_font_size))\n",
    "fig.write_image(f'{fig_path}contour_1114.png')"
   ]
  },
  {
   "cell_type": "markdown",
   "metadata": {},
   "source": [
    "## Create boxplot"
   ]
  },
  {
   "cell_type": "code",
   "execution_count": 7,
   "metadata": {},
   "outputs": [],
   "source": [
    "# random sampling to over parameter space and then fix variable x2\n",
    "problem = {'num_vars': 2,\n",
    "          'names': ['x1', 'x2'],\n",
    "          'bounds': [[0, 1], \n",
    "                    [0, 1]]\n",
    "          }\n",
    "sample_size = 1000\n",
    "param_values_full = latin.sample(problem, sample_size)\n",
    "x1_full = param_values_full[:, 0]\n",
    "x2_full = param_values_full[:, 1]\n",
    "z_uncon = v_func(x1_full, x2_full)\n",
    "\n",
    "# Calculate the conditional values with x2 fixed.\n",
    "group_labels = [r'$f(x_1, x_2)$', r'$f(x_1, x_2=%.1f)$'%(fix_1), r'$f(x_1, x_2=%.1f)$'%(fix_2)]\n",
    "z_c1 = v_func(x1_full, fix_1)\n",
    "z_c2 = v_func(x1_full, fix_2)"
   ]
  },
  {
   "cell_type": "code",
   "execution_count": 8,
   "metadata": {},
   "outputs": [],
   "source": [
    "# Form data into a dataframe before using seaborn\n",
    "hist_data = [z_uncon, z_c1, z_c2]\n",
    "df_plot = pd.DataFrame(columns=['x', 'H values', 'Type'], index = np.arange(sample_size * 6))\n",
    "for xx, yy, indd in zip(group_labels, hist_data, [999, 1999, 2999]):\n",
    "    df_plot.loc[(indd-999):indd, 'x'] = xx\n",
    "    df_plot.loc[(indd-999):indd, 'H values'] = yy\n",
    "df_plot.loc[:, 'Type'] = 'All'\n",
    "\n",
    "# add data satisfying the threshold: H>=0.8\n",
    "ind_start = 3000\n",
    "for xx, yy in zip(group_labels, hist_data):\n",
    "    ind =  np.where(yy >= y_thres)[0]\n",
    "    df_plot.loc[ind_start: (ind_start + ind.shape[0]-1 ), 'x'] = xx\n",
    "    df_plot.loc[ind_start: (ind_start + ind.shape[0]-1), 'H values'] = yy[ind]\n",
    "    df_plot.loc[ind_start: (ind_start + ind.shape[0]-1), 'Type'] = 'H>=0.8'\n",
    "    ind_start  = ind_start + ind.shape[0]    "
   ]
  },
  {
   "cell_type": "code",
   "execution_count": 10,
   "metadata": {},
   "outputs": [
    {
     "name": "stderr",
     "output_type": "stream",
     "text": [
      "C:\\Users\\hp\\AppData\\Local\\Temp\\ipykernel_54016\\2426285774.py:18: VisibleDeprecationWarning:\n",
      "\n",
      "Creating an ndarray from ragged nested sequences (which is a list-or-tuple of lists-or-tuples-or ndarrays with different lengths or shapes) is deprecated. If you meant to do this, you must specify 'dtype=object' when creating the ndarray.\n",
      "\n"
     ]
    }
   ],
   "source": [
    "hist_data = [z_uncon, z_c1, z_c2]\n",
    "q_1 = np.quantile(hist_data, 0.25, axis=1)\n",
    "q_3 = np.quantile(hist_data, 0.75, axis=1)\n",
    "q_m = np.quantile(hist_data, 0.50, axis=1)\n",
    "lower_bounds = np.quantile(hist_data, 0.025, axis=1)\n",
    "upper_bounds = np.quantile(hist_data, 0.975, axis=1)\n",
    "\n",
    "# Dataframe of selected data\n",
    "z_uncon_fil = z_uncon[np.where(z_uncon >= y_thres)[0]]\n",
    "z_c1_fil = z_c1[np.where(z_c1 >= y_thres)[0]]\n",
    "z_c2_fil = z_c2[np.where(z_c2 >= y_thres)[0]]\n",
    "\n",
    "x1_fil = x1_full[np.where(z_uncon >= y_thres)[0]]\n",
    "x1_c1 = x1_full[np.where(z_c1 >= y_thres)[0]]\n",
    "x1_c2 = x1_full[np.where(z_c2 >= y_thres)[0]]\n",
    "\n",
    "# Quantiles for selected data points\n",
    "hist_data_fil = np.array([z_uncon_fil, z_c1_fil, z_c2_fil])\n",
    "q_1_fil = [np.quantile(hist_data_fil[ii], 0.25) for ii in range(3)]\n",
    "q_3_fil = [np.quantile(hist_data_fil[ii], 0.75) for ii in range(3)]\n",
    "q_m_fil = [np.quantile(hist_data_fil[ii], 0.50) for ii in range(3)]\n",
    "lower_bounds_fil = [np.quantile(hist_data_fil[ii], 0.025) for ii in range(3)]\n",
    "upper_bounds_fil = [np.quantile(hist_data_fil[ii], 0.975) for ii in range(3)]"
   ]
  },
  {
   "cell_type": "code",
   "execution_count": 45,
   "metadata": {},
   "outputs": [],
   "source": [
    "fig3 = go.Figure()\n",
    "# Plot boxs for all points\n",
    "fig3.add_trace(go.Box(y = np.array(hist_data), width = 0.2, \n",
    "                     q1=q_1, median=q_m,\n",
    "                  q3=q_3, lowerfence = lower_bounds,\n",
    "                  upperfence = upper_bounds, boxpoints='outliers', name='All'))\n",
    "\n",
    "# Plot boxs for selected points\n",
    "fig3.add_trace(go.Box(y = np.array(hist_data_fil), width = 0.2, \n",
    "                     q1=q_1_fil, median=q_m_fil,\n",
    "                  q3=q_3_fil, lowerfence = lower_bounds_fil,\n",
    "                  upperfence = upper_bounds_fil, boxpoints='outliers', x0=0.2, \n",
    "                      name='Feasible'))\n",
    "\n",
    "fig3.update_yaxes(title_text = r'$H\\ values$', title_font = {\"size\": lab_font_size}, tickfont={\"size\" : tick_font_size})\n",
    "fig3.update_xaxes(ticktext = group_labels, tickvals=[0, 1, 2],\\\n",
    "                  tickfont={\"size\" : tick_font_size}, title_font = {\"size\": lab_font_size})\n",
    "fig3.update_layout(legend=dict(font={'size':tick_font_size},yanchor = \"top\",\n",
    "                              y = 0.25,\n",
    "                              xanchor = \"left\",\n",
    "                              x = 0.15))\n",
    "fig3.write_image(f'{fig_path}boxplot.png', format = 'png', scale=1)"
   ]
  },
  {
   "cell_type": "code",
   "execution_count": 17,
   "metadata": {},
   "outputs": [],
   "source": [
    "# fig4 = go.Figure()\n",
    "# fig4.add_trace(go.Box(y = np.array(hist_data_fil), width = 0.2, \n",
    "#                      q1=q_1_fil, median=q_m_fil,\n",
    "#                   q3=q_3_fil, lowerfence = lower_bounds_fil,\n",
    "#                   upperfence = upper_bounds_fil, boxpoints='outliers', x0=0.2, \n",
    "#                       name='Selected', fillcolor='orange', line_color='orange'))\n",
    "\n",
    "# fig4.update_yaxes(title_text = r'$H\\ values$', title_font = {\"size\": lab_font_size}, tickfont={\"size\" : tick_font_size})\n",
    "# fig3.update_xaxes(ticktext = group_labels, tickvals=[0, 1, 2],\\\n",
    "#                   tickfont={\"size\" : tick_font_size}, title_font = {\"size\": lab_font_size})\n",
    "# fig4.update_layout(legend=dict(font={'size':tick_font_size}))\n",
    "# fig4.write_image(f'{fig_path}boxplot-select.png', format = 'png', scale=1)"
   ]
  },
  {
   "cell_type": "markdown",
   "metadata": {},
   "source": [
    "## Create scatter plot"
   ]
  },
  {
   "cell_type": "code",
   "execution_count": 33,
   "metadata": {},
   "outputs": [],
   "source": [
    "# Scatter plot of x2 fixed at fix_1\n",
    "fig5 = go.Figure()\n",
    "k = 0\n",
    "for ydata, lab in zip(hist_data, group_labels):\n",
    "    if k != 1:  \n",
    "        fig5.add_trace(go.Scatter(x = x1_full, y = ydata, mode='markers', name=lab, \n",
    "                                  marker = {'size': 6, 'opacity' : 0.7}))\n",
    "    else:\n",
    "        fig5.add_trace(go.Scatter(x = x1_full, y = ydata, mode='markers', name=lab, \n",
    "                                  marker = {'size': 6, 'opacity' : 0.2}))\n",
    "    k += 1\n",
    "fig5.update_yaxes(title_text = r'$H\\ values$', title_font = {\"size\": lab_font_size}, tickfont = {\"size\" : tick_font_size})\n",
    "fig5.update_xaxes(title_text = r'$x_1$', title_font = {\"size\": lab_font_size}, tickfont = {\"size\" : tick_font_size})\n",
    "fig5.update_layout(legend=dict(yanchor = \"top\",\n",
    "                              y = 0.95,\n",
    "                              xanchor = \"left\",\n",
    "                              x = 0.65, \n",
    "                              font = {\"size\":14}))\n",
    "\n",
    "fig5.add_vline(x=0.5, line_width=1.5, line_dash=\"dash\", line_color=\"red\", \n",
    "              annotation_text = '')\n",
    "fig5.add_vline(x=0.475, line_width=1.5, line_dash=\"dash\", line_color=\"green\", \n",
    "              annotation_text = '')\n",
    "fig5.write_image(f'{fig_path}scatters-full.png', format = 'png', scale=2)"
   ]
  },
  {
   "cell_type": "code",
   "execution_count": 37,
   "metadata": {},
   "outputs": [],
   "source": [
    "# Scatter plot of x2 fixed at fix_1\n",
    "x1_data = [x1_fil, x1_c1, x1_c2]\n",
    "fig6 = go.Figure()\n",
    "k = 0\n",
    "for xx1, ydata, lab in zip(x1_data, hist_data_fil, group_labels):\n",
    "    if k != 1:  \n",
    "        fig6.add_trace(go.Scatter(x = xx1, y = ydata, mode='markers', name=lab, \n",
    "                                  marker = {'size': 6, 'opacity' : 0.7}))\n",
    "    else:\n",
    "        fig6.add_trace(go.Scatter(x = xx1, y = ydata, mode='markers', name=lab, \n",
    "                                  marker = {'size': 6, 'opacity' : 0.2}))\n",
    "    k += 1\n",
    "fig6.update_yaxes(title_text = r'$H\\ values$', title_font = {\"size\": lab_font_size}, tickfont = {\"size\" : tick_font_size})\n",
    "fig6.update_xaxes(title_text = r'$x_1$', title_font = {\"size\": lab_font_size}, tickfont = {\"size\" : tick_font_size})\n",
    "# fig6.update_layout(legend=dict(yanchor = \"top\",\n",
    "#                               y = 0.95,\n",
    "#                               xanchor = \"left\",\n",
    "#                               x = 0.65, \n",
    "#                               font = {\"size\":14}))\n",
    "fig6.update_layout(showlegend=False)\n",
    "\n",
    "fig6.add_vline(x=0.5, line_width=1.5, line_dash=\"dash\", line_color=\"red\", \n",
    "              annotation_text = '')\n",
    "fig6.add_vline(x=0.475, line_width=1.5, line_dash=\"dash\", line_color=\"green\", \n",
    "              annotation_text = '')\n",
    "fig6.write_image(f'{fig_path}scatters-select.png', format = 'png', scale=2)"
   ]
  },
  {
   "cell_type": "code",
   "execution_count": null,
   "metadata": {},
   "outputs": [],
   "source": []
  }
 ],
 "metadata": {
  "kernelspec": {
   "display_name": "python(oed)",
   "language": "python",
   "name": "oed"
  },
  "language_info": {
   "codemirror_mode": {
    "name": "ipython",
    "version": 3
   },
   "file_extension": ".py",
   "mimetype": "text/x-python",
   "name": "python",
   "nbconvert_exporter": "python",
   "pygments_lexer": "ipython3",
   "version": "3.7.1"
  }
 },
 "nbformat": 4,
 "nbformat_minor": 4
}
