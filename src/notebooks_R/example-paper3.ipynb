{
 "cells": [
  {
   "cell_type": "code",
   "execution_count": 1,
   "metadata": {},
   "outputs": [],
   "source": [
    "import numpy as np\n",
    "import pandas as pd\n",
    "import math\n",
    "import SALib\n",
    "from SALib.sample import latin\n",
    "import plotly.graph_objects as go\n",
    "import matplotlib.pyplot as plt\n",
    "import seaborn as sns"
   ]
  },
  {
   "cell_type": "code",
   "execution_count": 14,
   "metadata": {},
   "outputs": [],
   "source": [
    "# Define fontsizes\n",
    "lab_font_size = 20\n",
    "tick_font_size = 20\n",
    "anno_font_size = 16\n",
    "fig_path = '../../output/paper3/'"
   ]
  },
  {
   "cell_type": "code",
   "execution_count": 3,
   "metadata": {
    "tags": []
   },
   "outputs": [],
   "source": [
    "# Define the function\n",
    "# Parameters x are defined on [-1, 1]\n",
    "def diff_power(x1, x2):\n",
    "    \"\"\"\n",
    "    Parameters:\n",
    "    x1, x2: np.ndarray, matrix of parameter values for the Gaussian peak integrand family (GPI).\n",
    "    \n",
    "    Return:\n",
    "    y: np.ndarray, the output of SDP function.\n",
    "    \"\"\"\n",
    "    y = math.exp(-25 * (x1 - 0.5)**2 - 4*(x2 - 0.5) ** 2 - 5*(x1-0.5)*(x2-0.5))\n",
    "    return y\n",
    "# vetorize diff_power fucntion \n",
    "v_func = np.vectorize(diff_power)"
   ]
  },
  {
   "cell_type": "markdown",
   "metadata": {},
   "source": [
    "## Create the contour plot"
   ]
  },
  {
   "cell_type": "code",
   "execution_count": 5,
   "metadata": {},
   "outputs": [],
   "source": [
    "# Create meshgrid points\n",
    "x = np.array(np.meshgrid(np.linspace(0, 1, 1000),\n",
    "                   np.linspace(0, 1, 1000)))\n",
    "\n",
    "# Fix parameters at certain points and calculate the related  results\n",
    "# Fix x2 \n",
    "fix_1 = 0.5\n",
    "fix_2 = 0.7\n",
    "y_thres = 0.8\n",
    "# Calculate the unconditioned results\n",
    "z = v_func(x[0], x[1])"
   ]
  },
  {
   "cell_type": "code",
   "execution_count": 6,
   "metadata": {},
   "outputs": [],
   "source": [
    "fig = go.Figure(data =\n",
    "    go.Contour(\n",
    "        z = z,\n",
    "        x = x[0][0],\n",
    "        y = x[1][:,0],\n",
    "        colorbar = dict(title='Values', # title here\n",
    "            titleside='top',\n",
    "            titlefont=dict(\n",
    "            size=lab_font_size),\n",
    "            tickfont = dict(size = tick_font_size)\n",
    "            ),\n",
    "        colorscale='sunset',\n",
    "    contours=dict(\n",
    "            coloring ='heatmap',\n",
    "            showlabels = True, # show labels on contours\n",
    "            labelfont = dict( # label font properties\n",
    "                size = 12,\n",
    "                color = 'white'),\n",
    "            start=0,\n",
    "            end=1,\n",
    "            size=0.1),\n",
    "            ))\n",
    "\n",
    "\n",
    "fig.update_traces(line_color='black', selector=dict(type='contour'))\n",
    "fig.add_trace(go.Scatter(x=[0.001, 0.001, 0.999, 0.999, 0.001], y=[0, 1, 1, 0, 0], \n",
    "                         fill=None, line_color='royalblue',\n",
    "                        line_width=2, mode='lines', showlegend=False))\n",
    "\n",
    "# Highlight the contour line of 0.8 \n",
    "fig.add_trace(go.Contour(\n",
    "        z = z,\n",
    "        x = x[0][0],\n",
    "        y = x[1][:,0],\n",
    "    showscale=False,\n",
    "    colorscale=[[0, 'red'], [1, 'green']],\n",
    "    contours=dict(\n",
    "            coloring ='lines',\n",
    "            showlabels = False, # show labels on contours\n",
    "            start=0.8,\n",
    "            end=0.8,\n",
    "            size=0.1),\n",
    "            ))\n",
    "# Add markers indicating optima\n",
    "fig.add_trace(go.Scatter(x=[0.5, 0.48], y=[fix_1, fix_2], \\\n",
    "                         mode='markers', marker={'symbol':2,'size':8, 'color':['red', 'green']}, showlegend=False))\n",
    "\n",
    "# Add annotations to contour plot\n",
    "fig.add_hline(y=fix_1, line_width=1.5, line_dash=\"dash\", line_color=\"red\", \n",
    "              annotation_text = r'$f(x_1, x_2=%.1f)$'%fix_1, annotation_font_size = anno_font_size)\n",
    "fig.add_hline(y=fix_2, line_width=1.5, line_dash=\"dash\", line_color=\"green\", \n",
    "              annotation_text = r'$f(x_1, x_2=%.1f)$'%fix_2, annotation_font_size = anno_font_size)\n",
    "fig.update_xaxes(title_text = r'$x_1$', title_font = {\"size\": lab_font_size}, tickfont=dict(size=tick_font_size))\n",
    "fig.update_yaxes(title_text = r'$x_2$',title_font = {\"size\": lab_font_size},  tickfont=dict(size=tick_font_size))\n",
    "fig.update_layout(font_family='arial')\n",
    "fig.write_image(f'{fig_path}contour_1114.png')"
   ]
  },
  {
   "cell_type": "markdown",
   "metadata": {},
   "source": [
    "## Create boxplot"
   ]
  },
  {
   "cell_type": "code",
   "execution_count": 7,
   "metadata": {},
   "outputs": [],
   "source": [
    "import matplotlib as mpl\n",
    "mpl.rcParams['text.usetex'] = False\n",
    "# random sampling to over parameter space and then fix variable x2\n",
    "problem = {'num_vars': 2,\n",
    "          'names': ['x1', 'x2'],\n",
    "          'bounds': [[0, 1], \n",
    "                    [0, 1]]\n",
    "          }\n",
    "sample_size = 1000\n",
    "param_values_full = latin.sample(problem, sample_size)\n",
    "x1_full = param_values_full[:, 0]\n",
    "x2_full = param_values_full[:, 1]\n",
    "z_uncon = v_func(x1_full, x2_full)\n",
    "\n",
    "# Calculate the conditional values with x2 fixed.\n",
    "group_labels = [r'$f(x_1, x_2)$', r'$f(x_1, x_2=%.1f)$'%(fix_1), r'$f(x_1, x_2=%.1f)$'%(fix_2)]\n",
    "z_c1 = v_func(x1_full, fix_1)\n",
    "z_c2 = v_func(x1_full, fix_2)"
   ]
  },
  {
   "cell_type": "code",
   "execution_count": 8,
   "metadata": {},
   "outputs": [],
   "source": [
    "# Form data into a dataframe before using seaborn\n",
    "hist_data = [z_uncon, z_c1, z_c2]\n",
    "df_plot = pd.DataFrame(columns=['x', 'H values', 'Type'], index = np.arange(sample_size * 6))\n",
    "for xx, yy, indd in zip(group_labels, hist_data, [999, 1999, 2999]):\n",
    "    df_plot.loc[(indd-999):indd, 'x'] = xx\n",
    "    df_plot.loc[(indd-999):indd, 'H values'] = yy\n",
    "df_plot.loc[:, 'Type'] = 'All'\n",
    "\n",
    "# Add data satisfying the threshold: H>=0.8\n",
    "ind_start = 3000\n",
    "for xx, yy in zip(group_labels, hist_data):\n",
    "    ind =  np.where(yy >= y_thres)[0]\n",
    "    df_plot.loc[ind_start: (ind_start + ind.shape[0]-1 ), 'x'] = xx\n",
    "    df_plot.loc[ind_start: (ind_start + ind.shape[0]-1), 'H values'] = yy[ind]\n",
    "    df_plot.loc[ind_start: (ind_start + ind.shape[0]-1), 'Type'] = 'H>=0.8'\n",
    "    ind_start  = ind_start + ind.shape[0]    "
   ]
  },
  {
   "cell_type": "code",
   "execution_count": 9,
   "metadata": {},
   "outputs": [
    {
     "name": "stderr",
     "output_type": "stream",
     "text": [
      "C:\\Users\\wq\\.conda\\envs\\oed\\lib\\site-packages\\ipykernel_launcher.py:18: VisibleDeprecationWarning:\n",
      "\n",
      "Creating an ndarray from ragged nested sequences (which is a list-or-tuple of lists-or-tuples-or ndarrays with different lengths or shapes) is deprecated. If you meant to do this, you must specify 'dtype=object' when creating the ndarray.\n",
      "\n"
     ]
    }
   ],
   "source": [
    "hist_data = [z_uncon, z_c1, z_c2]\n",
    "q_1 = np.quantile(hist_data, 0.25, axis=1)\n",
    "q_3 = np.quantile(hist_data, 0.75, axis=1)\n",
    "q_m = np.quantile(hist_data, 0.50, axis=1)\n",
    "lower_bounds = np.quantile(hist_data, 0.025, axis=1)\n",
    "upper_bounds = np.quantile(hist_data, 0.975, axis=1)\n",
    "\n",
    "# Dataframe of selected data\n",
    "z_uncon_fil = z_uncon[np.where(z_uncon >= y_thres)[0]]\n",
    "z_c1_fil = z_c1[np.where(z_c1 >= y_thres)[0]]\n",
    "z_c2_fil = z_c2[np.where(z_c2 >= y_thres)[0]]\n",
    "\n",
    "x1_fil = x1_full[np.where(z_uncon >= y_thres)[0]]\n",
    "x1_c1 = x1_full[np.where(z_c1 >= y_thres)[0]]\n",
    "x1_c2 = x1_full[np.where(z_c2 >= y_thres)[0]]\n",
    "\n",
    "# Quantiles for selected data points\n",
    "hist_data_fil = np.array([z_uncon_fil, z_c1_fil, z_c2_fil])\n",
    "q_1_fil = [np.quantile(hist_data_fil[ii], 0.25) for ii in range(3)]\n",
    "q_3_fil = [np.quantile(hist_data_fil[ii], 0.75) for ii in range(3)]\n",
    "q_m_fil = [np.quantile(hist_data_fil[ii], 0.50) for ii in range(3)]\n",
    "lower_bounds_fil = [np.quantile(hist_data_fil[ii], 0.0035) for ii in range(3)]\n",
    "upper_bounds_fil = [np.quantile(hist_data_fil[ii], 0.9965) for ii in range(3)]"
   ]
  },
  {
   "cell_type": "code",
   "execution_count": 10,
   "metadata": {},
   "outputs": [],
   "source": [
    "plt.rcParams[\"font.family\"] = \"serif\"\n",
    "plt.rcParams[\"font.serif\"] = [\"Times New Roman\"] + plt.rcParams[\"font.serif\"]\n",
    "plt.rcParams['mathtext.fontset'] = 'stix'"
   ]
  },
  {
   "cell_type": "code",
   "execution_count": 11,
   "metadata": {
    "tags": []
   },
   "outputs": [
    {
     "data": {
      "image/png": "[encoded data removed]",
      "text/plain": [
       "<Figure size 432x288 with 1 Axes>"
      ]
     },
     "metadata": {},
     "output_type": "display_data"
    }
   ],
   "source": [
    "colors=['blue', 'red', 'green']\n",
    "sns.set_style('darkgrid')\n",
    "x1_box = np.arange(1,8,3)\n",
    "x2_box = x1_box+1\n",
    "fig3 = plt.figure(figsize=(6, 4), edgecolor='grey')\n",
    "bplt1 = plt.boxplot(hist_data, positions=x1_box, \n",
    "           vert=True,  # vertical box alignment\n",
    "           whis = (3.5, 99.65), \n",
    "           patch_artist=False,  # fill with colors\n",
    "           );\n",
    "bplt2 = plt.boxplot(hist_data_fil, positions = x2_box,\n",
    "           vert=True,  # vertical box alignment\n",
    "           whis = (0.35, 99.65), \n",
    "           patch_artist=False,  # fill with colors\n",
    "           );\n",
    "\n",
    "plt.ylabel('H values', {'family':'Times New Roman', 'style': 'italic'}, fontsize=14);\n",
    "plt.xticks([1.5,  4.5,  7.5], group_labels, fontsize=14);\n",
    "plt.yticks(fontsize=14);\n",
    "\n",
    "# set box colors for bplt1\n",
    "for components in list(bplt1.keys())[:-1]:\n",
    "    ii = 0\n",
    "    if components in ['whiskers', 'caps']:\n",
    "        for line in bplt1[components]:\n",
    "            line.set_color(colors[ii//2])\n",
    "            line.set_alpha(0.7)\n",
    "            line.set_linewidth(1.5)\n",
    "            ii += 1\n",
    "    else:\n",
    "        for line in bplt1[components]:\n",
    "            line.set_color(colors[ii])\n",
    "            line.set_alpha(0.7)\n",
    "            line.set_linewidth(1.5)\n",
    "            ii += 1\n",
    "# set box colors for bplt2\n",
    "for components in list(bplt2.keys())[:-1]:\n",
    "    ii = 0\n",
    "    if components in ['whiskers', 'caps']:\n",
    "        for line in bplt2[components]:\n",
    "            line.set_color(colors[ii//2])\n",
    "            line.set_alpha(0.7)\n",
    "            line.set_linestyle('--')\n",
    "            line.set_linewidth(1.5)\n",
    "            ii += 1\n",
    "    elif components in ['boxes', 'medians']:\n",
    "        for line in bplt2[components]:\n",
    "            line.set_color(colors[ii])\n",
    "            line.set_alpha(0.7)\n",
    "            line.set_linestyle('--')\n",
    "            line.set_linewidth(1.5)\n",
    "            ii += 1\n",
    "    else:\n",
    "        for marker in bplt2[components]:\n",
    "            line.set_alpha(0.7)\n",
    "            marker.set_color(colors[ii])\n",
    "            line.set_linewidth(1.5)\n",
    "            ii += 1\n",
    "plt.savefig(f'{fig_path}boxplot2.png', format = 'png', dpi=300)"
   ]
  },
  {
   "cell_type": "markdown",
   "metadata": {},
   "source": [
    "## Create scatter plot"
   ]
  },
  {
   "cell_type": "code",
   "execution_count": 15,
   "metadata": {},
   "outputs": [],
   "source": [
    "# Scatter plot of x2 fixed at fix_1\n",
    "from plotly.graph_objs import *\n",
    "fig5 = go.Figure()\n",
    "k = 0\n",
    "for ydata, lab in zip(hist_data, group_labels):\n",
    "    if k != 1:  \n",
    "        fig5.add_trace(go.Scatter(x = x1_full, y = ydata, mode='markers', name=lab, \n",
    "                                  marker = {'size': 6, 'opacity' : 0.7}))\n",
    "    else:\n",
    "        fig5.add_trace(go.Scatter(x = x1_full, y = ydata, mode='markers', name=lab, \n",
    "                                  marker = {'size': 6, 'opacity' : 0.2}))\n",
    "    k += 1\n",
    "fig5.update_yaxes(title_text = r'$H\\ values$', title_font = {\"size\": lab_font_size}, tickfont = {\"size\" : tick_font_size})\n",
    "fig5.update_xaxes(title_text = r'$x_1$', title_font = {\"size\": lab_font_size}, tickfont = {\"size\" : tick_font_size})\n",
    "fig5.update_layout(legend=dict(yanchor = \"top\",\n",
    "                              y = 0.95,\n",
    "                              xanchor = \"left\",\n",
    "                              x = 0.65, \n",
    "                              font = {\"size\":14}),\n",
    "                  template='seaborn',\n",
    "                  font_family='arial')\n",
    "# fig5.add_vline(x=0.5, line_width=1.5, line_dash=\"dash\", line_color=\"red\", \n",
    "#               annotation_text = '')\n",
    "# fig5.add_vline(x=0.475, line_width=1.5, line_dash=\"dash\", line_color=\"green\", \n",
    "#               annotation_text = '')\n",
    "fig5.write_image(f'{fig_path}scatters-full.png', format = 'png', scale=2)"
   ]
  },
  {
   "cell_type": "code",
   "execution_count": 16,
   "metadata": {},
   "outputs": [],
   "source": [
    "# Scatter plot of x2 fixed at fix_1\n",
    "x1_data = [x1_fil, x1_c1, x1_c2]\n",
    "fig6 = go.Figure()\n",
    "k = 0\n",
    "for xx1, ydata, lab in zip(x1_data, hist_data_fil, group_labels):\n",
    "    if k != 1:  \n",
    "        fig6.add_trace(go.Scatter(x = xx1, y = ydata, mode='markers', name=lab, \n",
    "                                  marker = {'size': 6, 'opacity' : 0.7}))\n",
    "    else:\n",
    "        fig6.add_trace(go.Scatter(x = xx1, y = ydata, mode='markers', name=lab, \n",
    "                                  marker = {'size': 6, 'opacity' : 0.2}))\n",
    "    k += 1\n",
    "fig6.update_yaxes(title_text = r'$H\\ values$', title_font = {\"size\": lab_font_size}, tickfont = {\"size\" : tick_font_size})\n",
    "fig6.update_xaxes(title_text = r'$x_1$', title_font = {\"size\": lab_font_size}, tickfont = {\"size\" : tick_font_size})\n",
    "fig6.update_layout(legend=dict(yanchor = \"top\",\n",
    "                              y = 0.95,\n",
    "                              xanchor = \"left\",\n",
    "                              x = 0.75, \n",
    "                              font = {\"size\":14}),\n",
    "                  template='seaborn',\n",
    "                  font_family='arial')\n",
    "# fig6.update_layout(showlegend=True)\n",
    "\n",
    "# fig6.add_vline(x=0.5, line_width=1.5, line_dash=\"dash\", line_color=\"red\", \n",
    "#               annotation_text = '')\n",
    "# fig6.add_vline(x=0.475, line_width=1.5, line_dash=\"dash\", line_color=\"green\", \n",
    "#               annotation_text = '')\n",
    "fig6.write_image(f'{fig_path}scatters-select.png', format = 'png', scale=2)"
   ]
  }
 ],
 "metadata": {
  "kernelspec": {
   "display_name": "python(oed)",
   "language": "python",
   "name": "oed"
  },
  "language_info": {
   "codemirror_mode": {
    "name": "ipython",
    "version": 3
   },
   "file_extension": ".py",
   "mimetype": "text/x-python",
   "name": "python",
   "nbconvert_exporter": "python",
   "pygments_lexer": "ipython3",
   "version": "3.7.1"
  }
 },
 "nbformat": 4,
 "nbformat_minor": 4
}
