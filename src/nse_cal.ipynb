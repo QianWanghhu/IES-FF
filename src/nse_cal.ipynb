{
 "cells": [
  {
   "cell_type": "markdown",
   "id": "impaired-binding",
   "metadata": {},
   "source": [
    "Calculate the NSE from IES results"
   ]
  },
  {
   "cell_type": "code",
   "execution_count": 4,
   "id": "eleven-receptor",
   "metadata": {},
   "outputs": [],
   "source": [
    "import pandas as pd\n",
    "import numpy as np\n",
    "import matplotlib.pyplot as plt\n",
    "import seaborn as sns\n",
    "import spotpy as sp"
   ]
  },
  {
   "cell_type": "code",
   "execution_count": 6,
   "id": "divine-merchant",
   "metadata": {},
   "outputs": [],
   "source": [
    "fn = '126001A_ies.csv'\n",
    "ies_outputs = pd.read_csv(fn, index_col = 'real_name')"
   ]
  },
  {
   "cell_type": "code",
   "execution_count": 7,
   "id": "million-message",
   "metadata": {},
   "outputs": [],
   "source": [
    "obs_annual = [52093.389, 99477.940, 44063.700, 57936.470, 53449.050, 21858.007, 38560.992, 51843.258, 14176.304]\n",
    "pbias = ies_outputs.loc[:, 'din_pbias'].values\n",
    "annual_ies = ies_outputs.loc[:, 'din_2009':'din_2017'].values"
   ]
  },
  {
   "cell_type": "code",
   "execution_count": 10,
   "id": "breeding-above",
   "metadata": {},
   "outputs": [],
   "source": [
    "nse = []\n",
    "for ii in range(annual_ies.shape[0]):\n",
    "    nse.append(sp.objectivefunctions.nashsutcliffe(obs_annual, annual_ies[ii]))"
   ]
  },
  {
   "cell_type": "code",
   "execution_count": 12,
   "id": "focal-segment",
   "metadata": {},
   "outputs": [],
   "source": [
    "ies_outputs['NSE'] = nse\n",
    "ies_outputs.to_csv(fn)"
   ]
  },
  {
   "cell_type": "code",
   "execution_count": 13,
   "id": "serial-brisbane",
   "metadata": {},
   "outputs": [
    {
     "name": "stderr",
     "output_type": "stream",
     "text": [
      "C:\\Users\\qianw\\anaconda3\\envs\\oed\\lib\\site-packages\\seaborn\\_decorators.py:43: FutureWarning: Pass the following variables as keyword args: x, y. From version 0.12, the only valid positional argument will be `data`, and passing other arguments without an explicit keyword will result in an error or misinterpretation.\n",
      "  FutureWarning\n"
     ]
    },
    {
     "data": {
      "image/png": "[encoded data removed]",
      "text/plain": [
       "<Figure size 432x288 with 1 Axes>"
      ]
     },
     "metadata": {
      "needs_background": "light"
     },
     "output_type": "display_data"
    }
   ],
   "source": [
    "ax = sns.scatterplot(nse, pbias)\n",
    "ax.set_xlabel('NSE')\n",
    "ax.set_ylabel('PBIAS')\n",
    "plt.savefig('NSE_PBIAS.pdf', format='pdf', dpi=300)"
   ]
  },
  {
   "cell_type": "code",
   "execution_count": null,
   "id": "meaning-requirement",
   "metadata": {},
   "outputs": [],
   "source": []
  }
 ],
 "metadata": {
  "kernelspec": {
   "display_name": "python(oed)",
   "language": "python",
   "name": "oed"
  },
  "language_info": {
   "codemirror_mode": {
    "name": "ipython",
    "version": 3
   },
   "file_extension": ".py",
   "mimetype": "text/x-python",
   "name": "python",
   "nbconvert_exporter": "python",
   "pygments_lexer": "ipython3",
   "version": "3.7.1"
  }
 },
 "nbformat": 4,
 "nbformat_minor": 5
}
